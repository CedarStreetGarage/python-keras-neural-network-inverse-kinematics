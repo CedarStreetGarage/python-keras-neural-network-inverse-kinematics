{
 "cells": [
  {
   "cell_type": "markdown",
   "metadata": {},
   "source": [
    "# Hyperbolic tangent activation and dense network\n"
   ]
  },
  {
   "cell_type": "code",
   "execution_count": 1,
   "metadata": {},
   "outputs": [
    {
     "name": "stderr",
     "output_type": "stream",
     "text": [
      "Using TensorFlow backend.\n"
     ]
    }
   ],
   "source": [
    "import numpy as np\n",
    "from math import sin\n",
    "from keras.models import Sequential\n",
    "from keras.layers import Dense"
   ]
  },
  {
   "cell_type": "code",
   "execution_count": 2,
   "metadata": {},
   "outputs": [
    {
     "name": "stdout",
     "output_type": "stream",
     "text": [
      "_________________________________________________________________\n",
      "Layer (type)                 Output Shape              Param #   \n",
      "=================================================================\n",
      "dense_1 (Dense)              (None, 20)                40        \n",
      "_________________________________________________________________\n",
      "dense_2 (Dense)              (None, 20)                420       \n",
      "_________________________________________________________________\n",
      "dense_3 (Dense)              (None, 20)                420       \n",
      "_________________________________________________________________\n",
      "dense_4 (Dense)              (None, 1)                 21        \n",
      "=================================================================\n",
      "Total params: 901\n",
      "Trainable params: 901\n",
      "Non-trainable params: 0\n",
      "_________________________________________________________________\n"
     ]
    }
   ],
   "source": [
    "model = Sequential([\n",
    "    Dense(20, input_dim=1, activation='tanh', use_bias=True),\n",
    "    Dense(20, activation='tanh', use_bias=True),\n",
    "    Dense(20, activation='tanh', use_bias=True),\n",
    "    Dense(1, activation='tanh', use_bias=True)\n",
    "])\n",
    "model.compile(optimizer='adam', loss='mse')\n",
    "model.summary()\n",
    "    "
   ]
  },
  {
   "cell_type": "code",
   "execution_count": 3,
   "metadata": {},
   "outputs": [
    {
     "name": "stdout",
     "output_type": "stream",
     "text": [
      "Epoch 1/20\n",
      "2000/2000 [==============================] - 2s - loss: 0.0098 - val_loss: 0.0026\n",
      "Epoch 2/20\n",
      "2000/2000 [==============================] - 2s - loss: 0.0014 - val_loss: 1.2813e-04\n",
      "Epoch 3/20\n",
      "2000/2000 [==============================] - 2s - loss: 1.7105e-04 - val_loss: 2.5379e-04\n",
      "Epoch 4/20\n",
      "2000/2000 [==============================] - 2s - loss: 1.6541e-04 - val_loss: 1.1663e-04\n",
      "Epoch 5/20\n",
      "2000/2000 [==============================] - 2s - loss: 1.7426e-04 - val_loss: 1.3862e-04\n",
      "Epoch 6/20\n",
      "2000/2000 [==============================] - 2s - loss: 1.6659e-04 - val_loss: 9.4543e-05\n",
      "Epoch 7/20\n",
      "2000/2000 [==============================] - 2s - loss: 9.6002e-05 - val_loss: 4.1923e-04\n",
      "Epoch 8/20\n",
      "2000/2000 [==============================] - 2s - loss: 8.5434e-05 - val_loss: 4.0152e-05\n",
      "Epoch 9/20\n",
      "2000/2000 [==============================] - 2s - loss: 8.0384e-05 - val_loss: 3.6163e-05\n",
      "Epoch 10/20\n",
      "2000/2000 [==============================] - 2s - loss: 7.5336e-05 - val_loss: 5.5882e-05\n",
      "Epoch 11/20\n",
      "2000/2000 [==============================] - 2s - loss: 7.1439e-05 - val_loss: 5.1323e-05\n",
      "Epoch 12/20\n",
      "2000/2000 [==============================] - 2s - loss: 7.6581e-05 - val_loss: 7.4168e-05\n",
      "Epoch 13/20\n",
      "2000/2000 [==============================] - 2s - loss: 6.3471e-05 - val_loss: 3.7403e-05\n",
      "Epoch 14/20\n",
      "2000/2000 [==============================] - 2s - loss: 4.6812e-05 - val_loss: 1.8316e-05\n",
      "Epoch 15/20\n",
      "2000/2000 [==============================] - 2s - loss: 3.7332e-05 - val_loss: 1.7721e-05\n",
      "Epoch 16/20\n",
      "2000/2000 [==============================] - 2s - loss: 2.9242e-05 - val_loss: 1.0969e-05\n",
      "Epoch 17/20\n",
      "2000/2000 [==============================] - 2s - loss: 3.1274e-05 - val_loss: 1.4852e-05\n",
      "Epoch 18/20\n",
      "2000/2000 [==============================] - 2s - loss: 2.1733e-05 - val_loss: 6.2859e-06\n",
      "Epoch 19/20\n",
      "2000/2000 [==============================] - 2s - loss: 2.1370e-05 - val_loss: 9.8945e-06\n",
      "Epoch 20/20\n",
      "2000/2000 [==============================] - 2s - loss: 1.8914e-05 - val_loss: 5.9866e-06\n"
     ]
    },
    {
     "data": {
      "text/plain": [
       "<keras.callbacks.History at 0x7fc7a15678d0>"
      ]
     },
     "execution_count": 3,
     "metadata": {},
     "output_type": "execute_result"
    }
   ],
   "source": [
    "def gen_batch(batch_size):\n",
    "    X = []\n",
    "    Y = []\n",
    "    for i in range(10):\n",
    "        x = np.random.uniform(-np.pi/2, np.pi/2)\n",
    "        y = sin(x)\n",
    "        X.append(x)\n",
    "        Y.append(y)\n",
    "    return np.array([X, Y])\n",
    "\n",
    "def gen(batch_size):\n",
    "    while 1:\n",
    "        yield gen_batch(batch_size)\n",
    "        \n",
    "model.fit_generator(generator=gen(20), steps_per_epoch=2000, epochs=20, validation_data=gen(5), validation_steps=10)"
   ]
  },
  {
   "cell_type": "code",
   "execution_count": 6,
   "metadata": {},
   "outputs": [
    {
     "name": "stdout",
     "output_type": "stream",
     "text": [
      "(-1.5, -0.991264283657074, -0.9974949866040544)\n",
      "(-1.4, -0.9815542101860046, -0.9854497299884601)\n",
      "(-1.3, -0.9629166722297668, -0.963558185417193)\n",
      "(-1.2, -0.9327337145805359, -0.9320390859672263)\n",
      "(-1.1, -0.890956461429596, -0.8912073600614354)\n",
      "(-1.0, -0.839418888092041, -0.8414709848078965)\n",
      "(-0.9, -0.7801317572593689, -0.7833269096274834)\n",
      "(-0.8, -0.7142901420593262, -0.7173560908995228)\n",
      "(-0.7, -0.6421936750411987, -0.644217687237691)\n",
      "(-0.6, -0.5636457800865173, -0.5646424733950354)\n",
      "(-0.5, -0.47859710454940796, -0.479425538604203)\n",
      "(-0.4, -0.3879101276397705, -0.3894183423086505)\n",
      "(-0.3, -0.2937062680721283, -0.29552020666133955)\n",
      "(-0.2, -0.19813098013401031, -0.19866933079506122)\n",
      "(-0.1, -0.10085206478834152, -0.09983341664682815)\n",
      "(0.0, -0.0005282257916405797, 0.0)\n",
      "(0.1, 0.10003086924552917, 0.09983341664682815)\n",
      "(0.2, 0.19779372215270996, 0.19866933079506122)\n",
      "(0.3, 0.293769508600235, 0.29552020666133955)\n",
      "(0.4, 0.38819190859794617, 0.3894183423086505)\n",
      "(0.5, 0.47897103428840637, 0.479425538604203)\n",
      "(0.6, 0.5640525221824646, 0.5646424733950354)\n",
      "(0.7, 0.642611563205719, 0.644217687237691)\n",
      "(0.8, 0.7147140502929688, 0.7173560908995228)\n",
      "(0.9, 0.7805594801902771, 0.7833269096274834)\n",
      "(1.0, 0.8398415446281433, 0.8414709848078965)\n",
      "(1.1, 0.8913493156433105, 0.8912073600614354)\n",
      "(1.2, 0.9330577850341797, 0.9320390859672263)\n",
      "(1.3, 0.9631386399269104, 0.963558185417193)\n",
      "(1.4, 0.9816740155220032, 0.9854497299884601)\n"
     ]
    }
   ],
   "source": [
    "x = [float(x-15)/10 for x in range(30)]\n",
    "y = model.predict(np.array(x))\n",
    "z = [sin(i) for i in x]\n",
    "\n",
    "q = zip(x,[i[0] for i in y.tolist()],z)\n",
    "for p in q:\n",
    "    print(p)"
   ]
  },
  {
   "cell_type": "markdown",
   "metadata": {},
   "source": [
    "# Radial basis function"
   ]
  },
  {
   "cell_type": "code",
   "execution_count": null,
   "metadata": {},
   "outputs": [],
   "source": [
    "# Idea taken from https://github.com/PetraVidnerova/rbf_keras\n",
    "\n",
    "import numpy as np\n",
    "from keras import backend as K\n",
    "from keras.engine.topology import Layer\n",
    "from keras.initializers import RandomUniform, Initializer, Orthogonal, Constant\n",
    "\n",
    "class InitCentersRandom(Initializer):\n",
    "  \n",
    "    def __init__(self, X):\n",
    "        self.X = X \n",
    "\n",
    "    def __call__(self, shape, dtype=None):\n",
    "        print(shape)\n",
    "        print(self.X.shape)\n",
    "        assert shape[1] == self.X.shape[1]\n",
    "        idx = np.random.randint(self.X.shape[0], size=shape[0])\n",
    "        return self.X[idx,:]\n",
    "\n",
    "        \n",
    "class RBFLayer(Layer):\n",
    "   \n",
    "    def __init__(self, output_dim, initializer=RandomUniform(0.0, 1.0), betas=1.0, **kwargs):\n",
    "        self.output_dim = output_dim\n",
    "        super(RBFLayer, self).__init__(**kwargs)\n",
    "\n",
    "    def build(self, input_shape):\n",
    "        self.centers = self.add_weight(shape=(self.output_dim, input_shape[1]),\n",
    "                                       initializer=RandomUniform(0.0, 1.0),\n",
    "                                       trainable=True)\n",
    "        self.betas = self.add_weight(shape=(self.output_dim),\n",
    "                                     initializer=Constant(value=1.0),\n",
    "                                     trainable=True)\n",
    "        super(RBFLayer, self).build(input_shape)  \n",
    "\n",
    "    def call(self, x):\n",
    "        C = K.expand_dims(self.centers)\n",
    "        H = (C-x.T).T\n",
    "        return K.exp(-self.betas * K.sum(H**2, axis=1))\n",
    "   \n",
    "    def compute_output_shape(self, input_shape):\n",
    "        return (input_shape[0], self.output_dim)\n",
    "\n",
    "    def get_config(self):\n",
    "        config = {\n",
    "            'output_dim': self.output_dim\n",
    "        }\n",
    "        base_config = super(RBFLayer, self).get_config()\n",
    "        return dict(list(base_config.items()) + list(config.items()))\n",
    "    \n",
    "    \n",
    "    \n",
    "X = np.array(zip([float(x-5)/10 for x in range(10)],[float(x-5)/10 for x in range(10)]))\n",
    "\n",
    "    \n",
    "model = Sequential([\n",
    "    RBFLayer(10, initializer=InitCentersRandom(X), betas=2.0,input_shape=(1,)),\n",
    "    Dense(1)\n",
    "])\n",
    "\n",
    "model.fit_generator(generator=gen(20), steps_per_epoch=2000, epochs=20, validation_data=gen(5), validation_steps=10)"
   ]
  },
  {
   "cell_type": "code",
   "execution_count": null,
   "metadata": {},
   "outputs": [],
   "source": []
  }
 ],
 "metadata": {
  "kernelspec": {
   "display_name": "Python 2",
   "language": "python",
   "name": "python2"
  },
  "language_info": {
   "codemirror_mode": {
    "name": "ipython",
    "version": 2
   },
   "file_extension": ".py",
   "mimetype": "text/x-python",
   "name": "python",
   "nbconvert_exporter": "python",
   "pygments_lexer": "ipython2",
   "version": "2.7.12"
  }
 },
 "nbformat": 4,
 "nbformat_minor": 2
}
